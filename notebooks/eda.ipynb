{
 "cells": [
  {
   "metadata": {
    "ExecuteTime": {
     "end_time": "2025-03-09T21:04:40.678838Z",
     "start_time": "2025-03-09T21:04:38.447791Z"
    }
   },
   "cell_type": "code",
   "source": [
    "import numpy as np\n",
    "import pandas as pd\n",
    "import torch\n",
    "from transformers import pipeline"
   ],
   "id": "79b53207655b2ce8",
   "outputs": [],
   "execution_count": 1
  },
  {
   "metadata": {},
   "cell_type": "markdown",
   "source": "# General EDA:",
   "id": "4c2bc719ee67fd40"
  },
  {
   "metadata": {
    "ExecuteTime": {
     "end_time": "2025-03-09T21:04:40.949422Z",
     "start_time": "2025-03-09T21:04:40.682Z"
    }
   },
   "cell_type": "code",
   "source": [
    "df = pd.read_csv('../datasets/labelled_newscatcher_dataset.csv', delimiter=';')\n",
    "df.sample(10)"
   ],
   "id": "622a8c7b59a1ac53",
   "outputs": [
    {
     "data": {
      "text/plain": [
       "               topic                                               link  \\\n",
       "9591          HEALTH  https://www.rnz.co.nz/news/national/423623/tok...   \n",
       "85752       BUSINESS  https://www.malaymail.com/news/money/2020/08/1...   \n",
       "31618          WORLD  https://www.bbc.co.uk/news/av/world-us-canada-...   \n",
       "32210         NATION  https://www.modernghana.com/news/1022140/bomb-...   \n",
       "22631         SPORTS  https://www.skynews.com.au/details/_6177589163001   \n",
       "29714         SPORTS  https://winnersandwhiners.com/games/mlb/8-6-20...   \n",
       "20347          WORLD  https://www.mirror.co.uk/news/world-news/saudi...   \n",
       "2254      TECHNOLOGY  https://mashable.com/shopping/aug-11-consultan...   \n",
       "58420         NATION  https://www.heraldsun.com.au/subscribe/news/1/...   \n",
       "18702  ENTERTAINMENT  https://whatculture.com/tv/the-umbrella-academ...   \n",
       "\n",
       "                      domain       published_date  \\\n",
       "9591               rnz.co.nz  2020-08-15 04:16:31   \n",
       "85752          malaymail.com  2020-08-09 23:23:53   \n",
       "31618              bbc.co.uk  2020-08-06 05:19:34   \n",
       "32210        modernghana.com  2020-08-11 00:07:45   \n",
       "22631         skynews.com.au  2020-08-03 05:50:14   \n",
       "29714  winnersandwhiners.com  2020-08-06 00:13:23   \n",
       "20347           mirror.co.uk  2020-08-07 10:17:00   \n",
       "2254            mashable.com  2020-08-11 09:00:00   \n",
       "58420       heraldsun.com.au  2020-08-06 07:00:00   \n",
       "18702        whatculture.com  2020-08-15 09:18:35   \n",
       "\n",
       "                                                   title lang  \n",
       "9591   Tokoroa Covid-19 cases spark unease in vulnera...   en  \n",
       "85752  US dollar tries to keep rally alive in a short...   en  \n",
       "31618  Joe Biden: 'Why the hell would I take a cognit...   en  \n",
       "32210   Bomb Explosion At La Beach Injures Four Children   en  \n",
       "22631  'HEARTBREAKING SHUTDOWN': Melbourne businesses...   en  \n",
       "29714  San Francisco Giants vs. Colorado Rockies Pred...   en  \n",
       "20347  Saudi ruler 'sent 50 hitman \"Tiger Squad\" to k...   en  \n",
       "2254   This 12-hour master class shows you how to mak...   en  \n",
       "58420  Were missing high country campers attacked in ...   en  \n",
       "18702  The Umbrella Academy Season 2: Ranking EVERY C...   en  "
      ],
      "text/html": [
       "<div>\n",
       "<style scoped>\n",
       "    .dataframe tbody tr th:only-of-type {\n",
       "        vertical-align: middle;\n",
       "    }\n",
       "\n",
       "    .dataframe tbody tr th {\n",
       "        vertical-align: top;\n",
       "    }\n",
       "\n",
       "    .dataframe thead th {\n",
       "        text-align: right;\n",
       "    }\n",
       "</style>\n",
       "<table border=\"1\" class=\"dataframe\">\n",
       "  <thead>\n",
       "    <tr style=\"text-align: right;\">\n",
       "      <th></th>\n",
       "      <th>topic</th>\n",
       "      <th>link</th>\n",
       "      <th>domain</th>\n",
       "      <th>published_date</th>\n",
       "      <th>title</th>\n",
       "      <th>lang</th>\n",
       "    </tr>\n",
       "  </thead>\n",
       "  <tbody>\n",
       "    <tr>\n",
       "      <th>9591</th>\n",
       "      <td>HEALTH</td>\n",
       "      <td>https://www.rnz.co.nz/news/national/423623/tok...</td>\n",
       "      <td>rnz.co.nz</td>\n",
       "      <td>2020-08-15 04:16:31</td>\n",
       "      <td>Tokoroa Covid-19 cases spark unease in vulnera...</td>\n",
       "      <td>en</td>\n",
       "    </tr>\n",
       "    <tr>\n",
       "      <th>85752</th>\n",
       "      <td>BUSINESS</td>\n",
       "      <td>https://www.malaymail.com/news/money/2020/08/1...</td>\n",
       "      <td>malaymail.com</td>\n",
       "      <td>2020-08-09 23:23:53</td>\n",
       "      <td>US dollar tries to keep rally alive in a short...</td>\n",
       "      <td>en</td>\n",
       "    </tr>\n",
       "    <tr>\n",
       "      <th>31618</th>\n",
       "      <td>WORLD</td>\n",
       "      <td>https://www.bbc.co.uk/news/av/world-us-canada-...</td>\n",
       "      <td>bbc.co.uk</td>\n",
       "      <td>2020-08-06 05:19:34</td>\n",
       "      <td>Joe Biden: 'Why the hell would I take a cognit...</td>\n",
       "      <td>en</td>\n",
       "    </tr>\n",
       "    <tr>\n",
       "      <th>32210</th>\n",
       "      <td>NATION</td>\n",
       "      <td>https://www.modernghana.com/news/1022140/bomb-...</td>\n",
       "      <td>modernghana.com</td>\n",
       "      <td>2020-08-11 00:07:45</td>\n",
       "      <td>Bomb Explosion At La Beach Injures Four Children</td>\n",
       "      <td>en</td>\n",
       "    </tr>\n",
       "    <tr>\n",
       "      <th>22631</th>\n",
       "      <td>SPORTS</td>\n",
       "      <td>https://www.skynews.com.au/details/_6177589163001</td>\n",
       "      <td>skynews.com.au</td>\n",
       "      <td>2020-08-03 05:50:14</td>\n",
       "      <td>'HEARTBREAKING SHUTDOWN': Melbourne businesses...</td>\n",
       "      <td>en</td>\n",
       "    </tr>\n",
       "    <tr>\n",
       "      <th>29714</th>\n",
       "      <td>SPORTS</td>\n",
       "      <td>https://winnersandwhiners.com/games/mlb/8-6-20...</td>\n",
       "      <td>winnersandwhiners.com</td>\n",
       "      <td>2020-08-06 00:13:23</td>\n",
       "      <td>San Francisco Giants vs. Colorado Rockies Pred...</td>\n",
       "      <td>en</td>\n",
       "    </tr>\n",
       "    <tr>\n",
       "      <th>20347</th>\n",
       "      <td>WORLD</td>\n",
       "      <td>https://www.mirror.co.uk/news/world-news/saudi...</td>\n",
       "      <td>mirror.co.uk</td>\n",
       "      <td>2020-08-07 10:17:00</td>\n",
       "      <td>Saudi ruler 'sent 50 hitman \"Tiger Squad\" to k...</td>\n",
       "      <td>en</td>\n",
       "    </tr>\n",
       "    <tr>\n",
       "      <th>2254</th>\n",
       "      <td>TECHNOLOGY</td>\n",
       "      <td>https://mashable.com/shopping/aug-11-consultan...</td>\n",
       "      <td>mashable.com</td>\n",
       "      <td>2020-08-11 09:00:00</td>\n",
       "      <td>This 12-hour master class shows you how to mak...</td>\n",
       "      <td>en</td>\n",
       "    </tr>\n",
       "    <tr>\n",
       "      <th>58420</th>\n",
       "      <td>NATION</td>\n",
       "      <td>https://www.heraldsun.com.au/subscribe/news/1/...</td>\n",
       "      <td>heraldsun.com.au</td>\n",
       "      <td>2020-08-06 07:00:00</td>\n",
       "      <td>Were missing high country campers attacked in ...</td>\n",
       "      <td>en</td>\n",
       "    </tr>\n",
       "    <tr>\n",
       "      <th>18702</th>\n",
       "      <td>ENTERTAINMENT</td>\n",
       "      <td>https://whatculture.com/tv/the-umbrella-academ...</td>\n",
       "      <td>whatculture.com</td>\n",
       "      <td>2020-08-15 09:18:35</td>\n",
       "      <td>The Umbrella Academy Season 2: Ranking EVERY C...</td>\n",
       "      <td>en</td>\n",
       "    </tr>\n",
       "  </tbody>\n",
       "</table>\n",
       "</div>"
      ]
     },
     "execution_count": 2,
     "metadata": {},
     "output_type": "execute_result"
    }
   ],
   "execution_count": 2
  },
  {
   "metadata": {
    "ExecuteTime": {
     "end_time": "2025-03-09T21:04:41.003764Z",
     "start_time": "2025-03-09T21:04:40.980587Z"
    }
   },
   "cell_type": "code",
   "source": "df.info()",
   "id": "f796e106cb2af37f",
   "outputs": [
    {
     "name": "stdout",
     "output_type": "stream",
     "text": [
      "<class 'pandas.core.frame.DataFrame'>\n",
      "RangeIndex: 108774 entries, 0 to 108773\n",
      "Data columns (total 6 columns):\n",
      " #   Column          Non-Null Count   Dtype \n",
      "---  ------          --------------   ----- \n",
      " 0   topic           108774 non-null  object\n",
      " 1   link            108774 non-null  object\n",
      " 2   domain          108774 non-null  object\n",
      " 3   published_date  108774 non-null  object\n",
      " 4   title           108774 non-null  object\n",
      " 5   lang            108774 non-null  object\n",
      "dtypes: object(6)\n",
      "memory usage: 5.0+ MB\n"
     ]
    }
   ],
   "execution_count": 3
  },
  {
   "metadata": {},
   "cell_type": "markdown",
   "source": "В данном датасете нет пропусков",
   "id": "518f1edb889bdd52"
  },
  {
   "metadata": {
    "ExecuteTime": {
     "end_time": "2025-03-09T21:04:41.029060Z",
     "start_time": "2025-03-09T21:04:41.023113Z"
    }
   },
   "cell_type": "code",
   "source": "df.topic.value_counts()",
   "id": "bb893b604eb45ede",
   "outputs": [
    {
     "data": {
      "text/plain": [
       "topic\n",
       "TECHNOLOGY       15000\n",
       "HEALTH           15000\n",
       "WORLD            15000\n",
       "ENTERTAINMENT    15000\n",
       "BUSINESS         15000\n",
       "SPORTS           15000\n",
       "NATION           15000\n",
       "SCIENCE           3774\n",
       "Name: count, dtype: int64"
      ]
     },
     "execution_count": 4,
     "metadata": {},
     "output_type": "execute_result"
    }
   ],
   "execution_count": 4
  },
  {
   "metadata": {
    "ExecuteTime": {
     "end_time": "2025-03-09T21:04:41.267460Z",
     "start_time": "2025-03-09T21:04:41.077997Z"
    }
   },
   "cell_type": "code",
   "source": "df.describe()",
   "id": "1e62dcd0154d029c",
   "outputs": [
    {
     "data": {
      "text/plain": [
       "             topic                     link           domain  \\\n",
       "count       108774                   108774           108774   \n",
       "unique           8                   106130             5164   \n",
       "top     TECHNOLOGY  https://www.google.com/  dailymail.co.uk   \n",
       "freq         15000                       19             1855   \n",
       "\n",
       "             published_date  \\\n",
       "count                108774   \n",
       "unique                68743   \n",
       "top     2020-08-04 01:00:00   \n",
       "freq                     41   \n",
       "\n",
       "                                                    title    lang  \n",
       "count                                              108774  108774  \n",
       "unique                                             103180       1  \n",
       "top     US tops 5 million confirmed virus cases, to Eu...      en  \n",
       "freq                                                   21  108774  "
      ],
      "text/html": [
       "<div>\n",
       "<style scoped>\n",
       "    .dataframe tbody tr th:only-of-type {\n",
       "        vertical-align: middle;\n",
       "    }\n",
       "\n",
       "    .dataframe tbody tr th {\n",
       "        vertical-align: top;\n",
       "    }\n",
       "\n",
       "    .dataframe thead th {\n",
       "        text-align: right;\n",
       "    }\n",
       "</style>\n",
       "<table border=\"1\" class=\"dataframe\">\n",
       "  <thead>\n",
       "    <tr style=\"text-align: right;\">\n",
       "      <th></th>\n",
       "      <th>topic</th>\n",
       "      <th>link</th>\n",
       "      <th>domain</th>\n",
       "      <th>published_date</th>\n",
       "      <th>title</th>\n",
       "      <th>lang</th>\n",
       "    </tr>\n",
       "  </thead>\n",
       "  <tbody>\n",
       "    <tr>\n",
       "      <th>count</th>\n",
       "      <td>108774</td>\n",
       "      <td>108774</td>\n",
       "      <td>108774</td>\n",
       "      <td>108774</td>\n",
       "      <td>108774</td>\n",
       "      <td>108774</td>\n",
       "    </tr>\n",
       "    <tr>\n",
       "      <th>unique</th>\n",
       "      <td>8</td>\n",
       "      <td>106130</td>\n",
       "      <td>5164</td>\n",
       "      <td>68743</td>\n",
       "      <td>103180</td>\n",
       "      <td>1</td>\n",
       "    </tr>\n",
       "    <tr>\n",
       "      <th>top</th>\n",
       "      <td>TECHNOLOGY</td>\n",
       "      <td>https://www.google.com/</td>\n",
       "      <td>dailymail.co.uk</td>\n",
       "      <td>2020-08-04 01:00:00</td>\n",
       "      <td>US tops 5 million confirmed virus cases, to Eu...</td>\n",
       "      <td>en</td>\n",
       "    </tr>\n",
       "    <tr>\n",
       "      <th>freq</th>\n",
       "      <td>15000</td>\n",
       "      <td>19</td>\n",
       "      <td>1855</td>\n",
       "      <td>41</td>\n",
       "      <td>21</td>\n",
       "      <td>108774</td>\n",
       "    </tr>\n",
       "  </tbody>\n",
       "</table>\n",
       "</div>"
      ]
     },
     "execution_count": 5,
     "metadata": {},
     "output_type": "execute_result"
    }
   ],
   "execution_count": 5
  },
  {
   "metadata": {},
   "cell_type": "markdown",
   "source": "Можно заметить, что все заголовки на английском языке, распределены по 8 тематикам, однако, не все заголовки уникальны",
   "id": "be96fe52203e3a46"
  },
  {
   "metadata": {
    "ExecuteTime": {
     "end_time": "2025-03-09T21:04:41.492207Z",
     "start_time": "2025-03-09T21:04:41.302063Z"
    }
   },
   "cell_type": "code",
   "source": [
    "temp = df.topic.value_counts().reset_index()['count']\n",
    "df.drop_duplicates(subset=['title'], inplace=True)\n",
    "df.describe()"
   ],
   "id": "17bb1642ee5bb85c",
   "outputs": [
    {
     "data": {
      "text/plain": [
       "         topic                     link           domain       published_date  \\\n",
       "count   103180                   103180           103180               103180   \n",
       "unique       8                   100693             4951                66299   \n",
       "top     NATION  https://www.google.com/  dailymail.co.uk  2020-08-04 01:00:00   \n",
       "freq     14777                       19             1843                   40   \n",
       "\n",
       "                                                    title    lang  \n",
       "count                                              103180  103180  \n",
       "unique                                             103180       1  \n",
       "top     Report: Talks Underway To Keep Shane Duffy In ...      en  \n",
       "freq                                                    1  103180  "
      ],
      "text/html": [
       "<div>\n",
       "<style scoped>\n",
       "    .dataframe tbody tr th:only-of-type {\n",
       "        vertical-align: middle;\n",
       "    }\n",
       "\n",
       "    .dataframe tbody tr th {\n",
       "        vertical-align: top;\n",
       "    }\n",
       "\n",
       "    .dataframe thead th {\n",
       "        text-align: right;\n",
       "    }\n",
       "</style>\n",
       "<table border=\"1\" class=\"dataframe\">\n",
       "  <thead>\n",
       "    <tr style=\"text-align: right;\">\n",
       "      <th></th>\n",
       "      <th>topic</th>\n",
       "      <th>link</th>\n",
       "      <th>domain</th>\n",
       "      <th>published_date</th>\n",
       "      <th>title</th>\n",
       "      <th>lang</th>\n",
       "    </tr>\n",
       "  </thead>\n",
       "  <tbody>\n",
       "    <tr>\n",
       "      <th>count</th>\n",
       "      <td>103180</td>\n",
       "      <td>103180</td>\n",
       "      <td>103180</td>\n",
       "      <td>103180</td>\n",
       "      <td>103180</td>\n",
       "      <td>103180</td>\n",
       "    </tr>\n",
       "    <tr>\n",
       "      <th>unique</th>\n",
       "      <td>8</td>\n",
       "      <td>100693</td>\n",
       "      <td>4951</td>\n",
       "      <td>66299</td>\n",
       "      <td>103180</td>\n",
       "      <td>1</td>\n",
       "    </tr>\n",
       "    <tr>\n",
       "      <th>top</th>\n",
       "      <td>NATION</td>\n",
       "      <td>https://www.google.com/</td>\n",
       "      <td>dailymail.co.uk</td>\n",
       "      <td>2020-08-04 01:00:00</td>\n",
       "      <td>Report: Talks Underway To Keep Shane Duffy In ...</td>\n",
       "      <td>en</td>\n",
       "    </tr>\n",
       "    <tr>\n",
       "      <th>freq</th>\n",
       "      <td>14777</td>\n",
       "      <td>19</td>\n",
       "      <td>1843</td>\n",
       "      <td>40</td>\n",
       "      <td>1</td>\n",
       "      <td>103180</td>\n",
       "    </tr>\n",
       "  </tbody>\n",
       "</table>\n",
       "</div>"
      ]
     },
     "execution_count": 6,
     "metadata": {},
     "output_type": "execute_result"
    }
   ],
   "execution_count": 6
  },
  {
   "metadata": {
    "ExecuteTime": {
     "end_time": "2025-03-09T21:04:41.555485Z",
     "start_time": "2025-03-09T21:04:41.548812Z"
    }
   },
   "cell_type": "code",
   "source": [
    "temp_df = df.topic.value_counts().reset_index()\n",
    "temp_df['prev_count'] = temp\n",
    "temp_df"
   ],
   "id": "4faa7b850339e0e4",
   "outputs": [
    {
     "data": {
      "text/plain": [
       "           topic  count  prev_count\n",
       "0         NATION  14777       15000\n",
       "1         SPORTS  14757       15000\n",
       "2  ENTERTAINMENT  14722       15000\n",
       "3       BUSINESS  14576       15000\n",
       "4          WORLD  14255       15000\n",
       "5     TECHNOLOGY  14255       15000\n",
       "6         HEALTH  12608       15000\n",
       "7        SCIENCE   3230        3774"
      ],
      "text/html": [
       "<div>\n",
       "<style scoped>\n",
       "    .dataframe tbody tr th:only-of-type {\n",
       "        vertical-align: middle;\n",
       "    }\n",
       "\n",
       "    .dataframe tbody tr th {\n",
       "        vertical-align: top;\n",
       "    }\n",
       "\n",
       "    .dataframe thead th {\n",
       "        text-align: right;\n",
       "    }\n",
       "</style>\n",
       "<table border=\"1\" class=\"dataframe\">\n",
       "  <thead>\n",
       "    <tr style=\"text-align: right;\">\n",
       "      <th></th>\n",
       "      <th>topic</th>\n",
       "      <th>count</th>\n",
       "      <th>prev_count</th>\n",
       "    </tr>\n",
       "  </thead>\n",
       "  <tbody>\n",
       "    <tr>\n",
       "      <th>0</th>\n",
       "      <td>NATION</td>\n",
       "      <td>14777</td>\n",
       "      <td>15000</td>\n",
       "    </tr>\n",
       "    <tr>\n",
       "      <th>1</th>\n",
       "      <td>SPORTS</td>\n",
       "      <td>14757</td>\n",
       "      <td>15000</td>\n",
       "    </tr>\n",
       "    <tr>\n",
       "      <th>2</th>\n",
       "      <td>ENTERTAINMENT</td>\n",
       "      <td>14722</td>\n",
       "      <td>15000</td>\n",
       "    </tr>\n",
       "    <tr>\n",
       "      <th>3</th>\n",
       "      <td>BUSINESS</td>\n",
       "      <td>14576</td>\n",
       "      <td>15000</td>\n",
       "    </tr>\n",
       "    <tr>\n",
       "      <th>4</th>\n",
       "      <td>WORLD</td>\n",
       "      <td>14255</td>\n",
       "      <td>15000</td>\n",
       "    </tr>\n",
       "    <tr>\n",
       "      <th>5</th>\n",
       "      <td>TECHNOLOGY</td>\n",
       "      <td>14255</td>\n",
       "      <td>15000</td>\n",
       "    </tr>\n",
       "    <tr>\n",
       "      <th>6</th>\n",
       "      <td>HEALTH</td>\n",
       "      <td>12608</td>\n",
       "      <td>15000</td>\n",
       "    </tr>\n",
       "    <tr>\n",
       "      <th>7</th>\n",
       "      <td>SCIENCE</td>\n",
       "      <td>3230</td>\n",
       "      <td>3774</td>\n",
       "    </tr>\n",
       "  </tbody>\n",
       "</table>\n",
       "</div>"
      ]
     },
     "execution_count": 7,
     "metadata": {},
     "output_type": "execute_result"
    }
   ],
   "execution_count": 7
  },
  {
   "metadata": {
    "ExecuteTime": {
     "end_time": "2025-03-09T21:04:41.619209Z",
     "start_time": "2025-03-09T21:04:41.613762Z"
    }
   },
   "cell_type": "code",
   "source": [
    "temp_df['diff'] = temp_df['prev_count'] - temp_df['count']\n",
    "temp_df.sort_values('diff', ascending=False)"
   ],
   "id": "c65f658a2d731661",
   "outputs": [
    {
     "data": {
      "text/plain": [
       "           topic  count  prev_count  diff\n",
       "6         HEALTH  12608       15000  2392\n",
       "4          WORLD  14255       15000   745\n",
       "5     TECHNOLOGY  14255       15000   745\n",
       "7        SCIENCE   3230        3774   544\n",
       "3       BUSINESS  14576       15000   424\n",
       "2  ENTERTAINMENT  14722       15000   278\n",
       "1         SPORTS  14757       15000   243\n",
       "0         NATION  14777       15000   223"
      ],
      "text/html": [
       "<div>\n",
       "<style scoped>\n",
       "    .dataframe tbody tr th:only-of-type {\n",
       "        vertical-align: middle;\n",
       "    }\n",
       "\n",
       "    .dataframe tbody tr th {\n",
       "        vertical-align: top;\n",
       "    }\n",
       "\n",
       "    .dataframe thead th {\n",
       "        text-align: right;\n",
       "    }\n",
       "</style>\n",
       "<table border=\"1\" class=\"dataframe\">\n",
       "  <thead>\n",
       "    <tr style=\"text-align: right;\">\n",
       "      <th></th>\n",
       "      <th>topic</th>\n",
       "      <th>count</th>\n",
       "      <th>prev_count</th>\n",
       "      <th>diff</th>\n",
       "    </tr>\n",
       "  </thead>\n",
       "  <tbody>\n",
       "    <tr>\n",
       "      <th>6</th>\n",
       "      <td>HEALTH</td>\n",
       "      <td>12608</td>\n",
       "      <td>15000</td>\n",
       "      <td>2392</td>\n",
       "    </tr>\n",
       "    <tr>\n",
       "      <th>4</th>\n",
       "      <td>WORLD</td>\n",
       "      <td>14255</td>\n",
       "      <td>15000</td>\n",
       "      <td>745</td>\n",
       "    </tr>\n",
       "    <tr>\n",
       "      <th>5</th>\n",
       "      <td>TECHNOLOGY</td>\n",
       "      <td>14255</td>\n",
       "      <td>15000</td>\n",
       "      <td>745</td>\n",
       "    </tr>\n",
       "    <tr>\n",
       "      <th>7</th>\n",
       "      <td>SCIENCE</td>\n",
       "      <td>3230</td>\n",
       "      <td>3774</td>\n",
       "      <td>544</td>\n",
       "    </tr>\n",
       "    <tr>\n",
       "      <th>3</th>\n",
       "      <td>BUSINESS</td>\n",
       "      <td>14576</td>\n",
       "      <td>15000</td>\n",
       "      <td>424</td>\n",
       "    </tr>\n",
       "    <tr>\n",
       "      <th>2</th>\n",
       "      <td>ENTERTAINMENT</td>\n",
       "      <td>14722</td>\n",
       "      <td>15000</td>\n",
       "      <td>278</td>\n",
       "    </tr>\n",
       "    <tr>\n",
       "      <th>1</th>\n",
       "      <td>SPORTS</td>\n",
       "      <td>14757</td>\n",
       "      <td>15000</td>\n",
       "      <td>243</td>\n",
       "    </tr>\n",
       "    <tr>\n",
       "      <th>0</th>\n",
       "      <td>NATION</td>\n",
       "      <td>14777</td>\n",
       "      <td>15000</td>\n",
       "      <td>223</td>\n",
       "    </tr>\n",
       "  </tbody>\n",
       "</table>\n",
       "</div>"
      ]
     },
     "execution_count": 8,
     "metadata": {},
     "output_type": "execute_result"
    }
   ],
   "execution_count": 8
  },
  {
   "metadata": {},
   "cell_type": "markdown",
   "source": "Как можно заметить, после удаления повторяющихся заголовков, наибольшее количество строк потеряла тематика \"HEALTH\"",
   "id": "6cee1dde10e29bef"
  },
  {
   "metadata": {
    "ExecuteTime": {
     "end_time": "2025-03-09T21:04:41.668167Z",
     "start_time": "2025-03-09T21:04:41.663019Z"
    }
   },
   "cell_type": "code",
   "source": "df",
   "id": "68268f4386aa3a43",
   "outputs": [
    {
     "data": {
      "text/plain": [
       "                topic                                               link  \\\n",
       "0             SCIENCE  https://www.eurekalert.org/pub_releases/2020-0...   \n",
       "1             SCIENCE  https://www.pulse.ng/news/world/an-irresistibl...   \n",
       "2             SCIENCE  https://www.express.co.uk/news/science/1322607...   \n",
       "3             SCIENCE  https://www.ndtv.com/world-news/glaciers-could...   \n",
       "4             SCIENCE  https://www.thesun.ie/tech/5742187/perseid-met...   \n",
       "...               ...                                                ...   \n",
       "108769         NATION  https://www.vanguardngr.com/2020/08/pdp-govern...   \n",
       "108770       BUSINESS  https://www.patentlyapple.com/patently-apple/2...   \n",
       "108771         HEALTH  https://www.belfastlive.co.uk/news/health/coro...   \n",
       "108772  ENTERTAINMENT  https://www.thenews.com.pk/latest/696364-paul-...   \n",
       "108773         SPORTS  https://www.balls.ie/football/shane-duffy-brig...   \n",
       "\n",
       "                   domain       published_date  \\\n",
       "0          eurekalert.org  2020-08-06 13:59:45   \n",
       "1                pulse.ng  2020-08-12 15:14:19   \n",
       "2           express.co.uk  2020-08-13 21:01:00   \n",
       "3                ndtv.com  2020-08-03 22:18:26   \n",
       "4               thesun.ie  2020-08-12 19:54:36   \n",
       "...                   ...                  ...   \n",
       "108769    vanguardngr.com  2020-08-08 02:40:00   \n",
       "108770  patentlyapple.com  2020-08-08 01:27:12   \n",
       "108771  belfastlive.co.uk  2020-08-12 17:01:00   \n",
       "108772     thenews.com.pk  2020-08-05 04:59:00   \n",
       "108773           balls.ie  2020-08-09 10:25:26   \n",
       "\n",
       "                                                    title lang  \n",
       "0       A closer look at water-splitting's solar fuel ...   en  \n",
       "1       An irresistible scent makes locusts swarm, stu...   en  \n",
       "2       Artificial intelligence warning: AI will know ...   en  \n",
       "3        Glaciers Could Have Sculpted Mars Valleys: Study   en  \n",
       "4       Perseid meteor shower 2020: What time and how ...   en  \n",
       "...                                                   ...  ...  \n",
       "108769  PDP governors’ forum urges security agencies t...   en  \n",
       "108770  In Q2-20, Apple Dominated the Premium Smartpho...   en  \n",
       "108771  Coronavirus Northern Ireland: Full breakdown s...   en  \n",
       "108772  Paul McCartney details post-Beatles distress a...   en  \n",
       "108773  Report: Talks Underway To Keep Shane Duffy In ...   en  \n",
       "\n",
       "[103180 rows x 6 columns]"
      ],
      "text/html": [
       "<div>\n",
       "<style scoped>\n",
       "    .dataframe tbody tr th:only-of-type {\n",
       "        vertical-align: middle;\n",
       "    }\n",
       "\n",
       "    .dataframe tbody tr th {\n",
       "        vertical-align: top;\n",
       "    }\n",
       "\n",
       "    .dataframe thead th {\n",
       "        text-align: right;\n",
       "    }\n",
       "</style>\n",
       "<table border=\"1\" class=\"dataframe\">\n",
       "  <thead>\n",
       "    <tr style=\"text-align: right;\">\n",
       "      <th></th>\n",
       "      <th>topic</th>\n",
       "      <th>link</th>\n",
       "      <th>domain</th>\n",
       "      <th>published_date</th>\n",
       "      <th>title</th>\n",
       "      <th>lang</th>\n",
       "    </tr>\n",
       "  </thead>\n",
       "  <tbody>\n",
       "    <tr>\n",
       "      <th>0</th>\n",
       "      <td>SCIENCE</td>\n",
       "      <td>https://www.eurekalert.org/pub_releases/2020-0...</td>\n",
       "      <td>eurekalert.org</td>\n",
       "      <td>2020-08-06 13:59:45</td>\n",
       "      <td>A closer look at water-splitting's solar fuel ...</td>\n",
       "      <td>en</td>\n",
       "    </tr>\n",
       "    <tr>\n",
       "      <th>1</th>\n",
       "      <td>SCIENCE</td>\n",
       "      <td>https://www.pulse.ng/news/world/an-irresistibl...</td>\n",
       "      <td>pulse.ng</td>\n",
       "      <td>2020-08-12 15:14:19</td>\n",
       "      <td>An irresistible scent makes locusts swarm, stu...</td>\n",
       "      <td>en</td>\n",
       "    </tr>\n",
       "    <tr>\n",
       "      <th>2</th>\n",
       "      <td>SCIENCE</td>\n",
       "      <td>https://www.express.co.uk/news/science/1322607...</td>\n",
       "      <td>express.co.uk</td>\n",
       "      <td>2020-08-13 21:01:00</td>\n",
       "      <td>Artificial intelligence warning: AI will know ...</td>\n",
       "      <td>en</td>\n",
       "    </tr>\n",
       "    <tr>\n",
       "      <th>3</th>\n",
       "      <td>SCIENCE</td>\n",
       "      <td>https://www.ndtv.com/world-news/glaciers-could...</td>\n",
       "      <td>ndtv.com</td>\n",
       "      <td>2020-08-03 22:18:26</td>\n",
       "      <td>Glaciers Could Have Sculpted Mars Valleys: Study</td>\n",
       "      <td>en</td>\n",
       "    </tr>\n",
       "    <tr>\n",
       "      <th>4</th>\n",
       "      <td>SCIENCE</td>\n",
       "      <td>https://www.thesun.ie/tech/5742187/perseid-met...</td>\n",
       "      <td>thesun.ie</td>\n",
       "      <td>2020-08-12 19:54:36</td>\n",
       "      <td>Perseid meteor shower 2020: What time and how ...</td>\n",
       "      <td>en</td>\n",
       "    </tr>\n",
       "    <tr>\n",
       "      <th>...</th>\n",
       "      <td>...</td>\n",
       "      <td>...</td>\n",
       "      <td>...</td>\n",
       "      <td>...</td>\n",
       "      <td>...</td>\n",
       "      <td>...</td>\n",
       "    </tr>\n",
       "    <tr>\n",
       "      <th>108769</th>\n",
       "      <td>NATION</td>\n",
       "      <td>https://www.vanguardngr.com/2020/08/pdp-govern...</td>\n",
       "      <td>vanguardngr.com</td>\n",
       "      <td>2020-08-08 02:40:00</td>\n",
       "      <td>PDP governors’ forum urges security agencies t...</td>\n",
       "      <td>en</td>\n",
       "    </tr>\n",
       "    <tr>\n",
       "      <th>108770</th>\n",
       "      <td>BUSINESS</td>\n",
       "      <td>https://www.patentlyapple.com/patently-apple/2...</td>\n",
       "      <td>patentlyapple.com</td>\n",
       "      <td>2020-08-08 01:27:12</td>\n",
       "      <td>In Q2-20, Apple Dominated the Premium Smartpho...</td>\n",
       "      <td>en</td>\n",
       "    </tr>\n",
       "    <tr>\n",
       "      <th>108771</th>\n",
       "      <td>HEALTH</td>\n",
       "      <td>https://www.belfastlive.co.uk/news/health/coro...</td>\n",
       "      <td>belfastlive.co.uk</td>\n",
       "      <td>2020-08-12 17:01:00</td>\n",
       "      <td>Coronavirus Northern Ireland: Full breakdown s...</td>\n",
       "      <td>en</td>\n",
       "    </tr>\n",
       "    <tr>\n",
       "      <th>108772</th>\n",
       "      <td>ENTERTAINMENT</td>\n",
       "      <td>https://www.thenews.com.pk/latest/696364-paul-...</td>\n",
       "      <td>thenews.com.pk</td>\n",
       "      <td>2020-08-05 04:59:00</td>\n",
       "      <td>Paul McCartney details post-Beatles distress a...</td>\n",
       "      <td>en</td>\n",
       "    </tr>\n",
       "    <tr>\n",
       "      <th>108773</th>\n",
       "      <td>SPORTS</td>\n",
       "      <td>https://www.balls.ie/football/shane-duffy-brig...</td>\n",
       "      <td>balls.ie</td>\n",
       "      <td>2020-08-09 10:25:26</td>\n",
       "      <td>Report: Talks Underway To Keep Shane Duffy In ...</td>\n",
       "      <td>en</td>\n",
       "    </tr>\n",
       "  </tbody>\n",
       "</table>\n",
       "<p>103180 rows × 6 columns</p>\n",
       "</div>"
      ]
     },
     "execution_count": 9,
     "metadata": {},
     "output_type": "execute_result"
    }
   ],
   "execution_count": 9
  },
  {
   "metadata": {
    "ExecuteTime": {
     "end_time": "2025-03-09T21:04:41.760842Z",
     "start_time": "2025-03-09T21:04:41.747505Z"
    }
   },
   "cell_type": "code",
   "source": "df['published_date'] = pd.to_datetime(df.published_date)",
   "id": "9e480a6ac50f6b7e",
   "outputs": [],
   "execution_count": 10
  },
  {
   "metadata": {
    "ExecuteTime": {
     "end_time": "2025-03-09T21:04:41.892846Z",
     "start_time": "2025-03-09T21:04:41.889833Z"
    }
   },
   "cell_type": "code",
   "source": "df.published_date.min()",
   "id": "dd829ab58e3b6db5",
   "outputs": [
    {
     "data": {
      "text/plain": [
       "Timestamp('2012-09-16 04:44:50')"
      ]
     },
     "execution_count": 11,
     "metadata": {},
     "output_type": "execute_result"
    }
   ],
   "execution_count": 11
  },
  {
   "metadata": {
    "ExecuteTime": {
     "end_time": "2025-03-09T21:04:41.915990Z",
     "start_time": "2025-03-09T21:04:41.912557Z"
    }
   },
   "cell_type": "code",
   "source": "df.published_date.max()",
   "id": "425da3f5def942b9",
   "outputs": [
    {
     "data": {
      "text/plain": [
       "Timestamp('2020-08-18 05:49:00')"
      ]
     },
     "execution_count": 12,
     "metadata": {},
     "output_type": "execute_result"
    }
   ],
   "execution_count": 12
  },
  {
   "metadata": {},
   "cell_type": "markdown",
   "source": "Временной промежуток записей в датасете охватывает период с 16 сенятбря 2012 года до 18 августа 2020 года",
   "id": "1c7fa0bf7e408f7c"
  },
  {
   "metadata": {
    "ExecuteTime": {
     "end_time": "2025-03-09T21:04:41.981658Z",
     "start_time": "2025-03-09T21:04:41.976977Z"
    }
   },
   "cell_type": "code",
   "source": "df['year'] = df.published_date.dt.year",
   "id": "1f5fb2c564673a40",
   "outputs": [],
   "execution_count": 13
  },
  {
   "metadata": {
    "ExecuteTime": {
     "end_time": "2025-03-09T21:04:42.038424Z",
     "start_time": "2025-03-09T21:04:42.034918Z"
    }
   },
   "cell_type": "code",
   "source": "df.year.value_counts()",
   "id": "af956077c0f2343",
   "outputs": [
    {
     "data": {
      "text/plain": [
       "year\n",
       "2020    103023\n",
       "2019       109\n",
       "2018        25\n",
       "2017        16\n",
       "2016         3\n",
       "2012         3\n",
       "2015         1\n",
       "Name: count, dtype: int64"
      ]
     },
     "execution_count": 14,
     "metadata": {},
     "output_type": "execute_result"
    }
   ],
   "execution_count": 14
  },
  {
   "metadata": {},
   "cell_type": "markdown",
   "source": "Однако, подавляющее большинство записей были сделаны в 2020 году",
   "id": "eff616992a7800a1"
  },
  {
   "metadata": {
    "ExecuteTime": {
     "end_time": "2025-03-09T21:04:42.098650Z",
     "start_time": "2025-03-09T21:04:42.082065Z"
    }
   },
   "cell_type": "code",
   "source": [
    "df['month'] = df.published_date.dt.month\n",
    "df[df.year == 2020].month.value_counts()"
   ],
   "id": "6367746f092c3f28",
   "outputs": [
    {
     "data": {
      "text/plain": [
       "month\n",
       "8    102724\n",
       "7        85\n",
       "6        49\n",
       "5        49\n",
       "4        45\n",
       "3        39\n",
       "1        19\n",
       "2        13\n",
       "Name: count, dtype: int64"
      ]
     },
     "execution_count": 15,
     "metadata": {},
     "output_type": "execute_result"
    }
   ],
   "execution_count": 15
  },
  {
   "metadata": {},
   "cell_type": "markdown",
   "source": "Подавляющее большинство заголовков принадлежит августу 2020 года",
   "id": "f717a9abd8188163"
  },
  {
   "metadata": {},
   "cell_type": "markdown",
   "source": "# Task specific EDA:",
   "id": "97c2d2fb357f3259"
  },
  {
   "metadata": {},
   "cell_type": "markdown",
   "source": "Предположим, что интересуюшая нас организация - это NASA",
   "id": "dcd0a70e15532192"
  },
  {
   "metadata": {
    "ExecuteTime": {
     "end_time": "2025-03-09T21:04:42.260661Z",
     "start_time": "2025-03-09T21:04:42.258907Z"
    }
   },
   "cell_type": "code",
   "source": "ORG_NAME = 'NASA'",
   "id": "326a875094f79ac5",
   "outputs": [],
   "execution_count": 16
  },
  {
   "metadata": {
    "ExecuteTime": {
     "end_time": "2025-03-09T21:04:42.329072Z",
     "start_time": "2025-03-09T21:04:42.294613Z"
    }
   },
   "cell_type": "code",
   "source": "df.title.str.contains(ORG_NAME).value_counts()",
   "id": "9828e3a9abd90410",
   "outputs": [
    {
     "data": {
      "text/plain": [
       "title\n",
       "False    102676\n",
       "True        504\n",
       "Name: count, dtype: int64"
      ]
     },
     "execution_count": 17,
     "metadata": {},
     "output_type": "execute_result"
    }
   ],
   "execution_count": 17
  },
  {
   "metadata": {},
   "cell_type": "markdown",
   "source": "Всего организация упомяналась 504 раза в следующих категориях:",
   "id": "b92c2a32c0e5ed4d"
  },
  {
   "metadata": {
    "ExecuteTime": {
     "end_time": "2025-03-09T21:04:42.400283Z",
     "start_time": "2025-03-09T21:04:42.367548Z"
    }
   },
   "cell_type": "code",
   "source": "df[df.title.str.contains(ORG_NAME)].topic.value_counts()",
   "id": "1c5c5758a1650b35",
   "outputs": [
    {
     "data": {
      "text/plain": [
       "topic\n",
       "SCIENCE          475\n",
       "TECHNOLOGY        25\n",
       "ENTERTAINMENT      2\n",
       "HEALTH             1\n",
       "NATION             1\n",
       "Name: count, dtype: int64"
      ]
     },
     "execution_count": 18,
     "metadata": {},
     "output_type": "execute_result"
    }
   ],
   "execution_count": 18
  },
  {
   "metadata": {},
   "cell_type": "markdown",
   "source": "Посмотрим несколько заголовков из разных категорий:",
   "id": "341d1b15aa61384"
  },
  {
   "metadata": {
    "ExecuteTime": {
     "end_time": "2025-03-09T21:04:42.436986Z",
     "start_time": "2025-03-09T21:04:42.434167Z"
    }
   },
   "cell_type": "code",
   "source": [
    "def show_titles(topic: str) -> pd.DataFrame:\n",
    "    if not topic in df.topic.unique().tolist():\n",
    "        raise ValueError(f'Provided topic `{topic}` must be in DataFrame topics')\n",
    "\n",
    "    option_1 = df.title.str.contains(ORG_NAME)\n",
    "    option_2 = df.topic == topic\n",
    "\n",
    "    return df[option_1 & option_2].title"
   ],
   "id": "5fd98e9c9daef8eb",
   "outputs": [],
   "execution_count": 19
  },
  {
   "metadata": {
    "ExecuteTime": {
     "end_time": "2025-03-09T21:04:42.509465Z",
     "start_time": "2025-03-09T21:04:42.481722Z"
    }
   },
   "cell_type": "code",
   "source": "show_titles('HEALTH')\n",
   "id": "d4ba42f66c785be6",
   "outputs": [
    {
     "data": {
      "text/plain": [
       "22611    NASA releases weird-looking shape of our solar...\n",
       "Name: title, dtype: object"
      ]
     },
     "execution_count": 20,
     "metadata": {},
     "output_type": "execute_result"
    }
   ],
   "execution_count": 20
  },
  {
   "metadata": {
    "ExecuteTime": {
     "end_time": "2025-03-09T21:04:42.570831Z",
     "start_time": "2025-03-09T21:04:42.542242Z"
    }
   },
   "cell_type": "code",
   "source": "show_titles('NATION')\n",
   "id": "293516f4213906fc",
   "outputs": [
    {
     "data": {
      "text/plain": [
       "51281    Chandrayaan 2 Pragyan rover not damaged; New N...\n",
       "Name: title, dtype: object"
      ]
     },
     "execution_count": 21,
     "metadata": {},
     "output_type": "execute_result"
    }
   ],
   "execution_count": 21
  },
  {
   "metadata": {
    "ExecuteTime": {
     "end_time": "2025-03-09T21:04:42.640574Z",
     "start_time": "2025-03-09T21:04:42.609641Z"
    }
   },
   "cell_type": "code",
   "source": "show_titles('TECHNOLOGY').sample(10)\n",
   "id": "e48ab2b7d12e4147",
   "outputs": [
    {
     "data": {
      "text/plain": [
       "30151    NASA succeeds in receiving laser beam signal f...\n",
       "37955    NASA official may face criminal investigation ...\n",
       "12939    Watch: teaming up with NASA for new 'Hyperspac...\n",
       "16482    Watch: Beck teams up with NASA for new 'Hypers...\n",
       "449      Justice Department opens probe into ex-NASA of...\n",
       "18422    NASA Commander Chris Cassidy Is Making Music V...\n",
       "48288    Beck Teams With NASA for New Hyperspace Visual...\n",
       "12060    Beck collaborates with NASA on new ‘A.I. Explo...\n",
       "21926    Beck Teams With NASA for ‘Hyperspace’ Visual A...\n",
       "13614    U.S. Justice Dept opens probe into ex-NASA off...\n",
       "Name: title, dtype: object"
      ]
     },
     "execution_count": 22,
     "metadata": {},
     "output_type": "execute_result"
    }
   ],
   "execution_count": 22
  },
  {
   "metadata": {
    "ExecuteTime": {
     "end_time": "2025-03-09T21:04:42.707127Z",
     "start_time": "2025-03-09T21:04:42.678603Z"
    }
   },
   "cell_type": "code",
   "source": "show_titles('SCIENCE').sample(10)\n",
   "id": "30c2fd33070ca7ea",
   "outputs": [
    {
     "data": {
      "text/plain": [
       "55800     Space X and NASA launch aborted 16 minutes bef...\n",
       "38018     'Shallow Lightning' and 'Mushballs' Reveal Amm...\n",
       "18113                         NASA Maps Beirut Blast Damage\n",
       "142                   NASA Saved Its Mars Mole, Is It True?\n",
       "6648      Russia to provide NASA with full information o...\n",
       "90121     NASA to Rename Cosmic Objects, Replace Racial ...\n",
       "54235     NASA Perseveres Through COVID-19 Pandemic – He...\n",
       "66057     Roscosmos space agency invites NASA top offici...\n",
       "65996     Two galaxies collide in NASA's majestic Hubble...\n",
       "103023    NASA Removes 'Insensitive' Nicknames For Certa...\n",
       "Name: title, dtype: object"
      ]
     },
     "execution_count": 23,
     "metadata": {},
     "output_type": "execute_result"
    }
   ],
   "execution_count": 23
  },
  {
   "metadata": {
    "ExecuteTime": {
     "end_time": "2025-03-09T21:04:42.799600Z",
     "start_time": "2025-03-09T21:04:42.776047Z"
    }
   },
   "cell_type": "code",
   "source": "df[df.title.str.contains(ORG_NAME)]",
   "id": "87434f25cd5add58",
   "outputs": [
    {
     "data": {
      "text/plain": [
       "          topic                                               link  \\\n",
       "5       SCIENCE  https://interestingengineering.com/nasa-releas...   \n",
       "6       SCIENCE  https://www.thequint.com/tech-and-auto/spacex-...   \n",
       "9       SCIENCE  https://www.thehindubusinessline.com/news/scie...   \n",
       "11      SCIENCE  https://interestingengineering.com/nasa-finds-...   \n",
       "26      SCIENCE  https://www.clickorlando.com/news/local/2020/0...   \n",
       "...         ...                                                ...   \n",
       "107512  SCIENCE  https://www.haveeru.com.mv/to-start-with-at-an...   \n",
       "108092  SCIENCE  https://solarsystem.nasa.gov/news/1421/arecibo...   \n",
       "108269  SCIENCE  https://americaspeaksink.com/2020/08/nasa-shut...   \n",
       "108397  SCIENCE  https://www.therahnuma.com/nasa-perseverance-r...   \n",
       "108684  SCIENCE  https://sputniknews.com/science/20200813108015...   \n",
       "\n",
       "                            domain      published_date  \\\n",
       "5       interestingengineering.com 2020-08-08 11:05:45   \n",
       "6                     thequint.com 2020-05-28 09:09:46   \n",
       "9         thehindubusinessline.com 2020-08-14 07:43:25   \n",
       "11      interestingengineering.com 2020-08-07 09:23:57   \n",
       "26                clickorlando.com 2020-08-04 23:21:00   \n",
       "...                            ...                 ...   \n",
       "107512              haveeru.com.mv 2020-08-06 20:30:16   \n",
       "108092        solarsystem.nasa.gov 2020-08-07 17:38:24   \n",
       "108269        americaspeaksink.com 2020-08-07 19:45:00   \n",
       "108397              therahnuma.com 2020-08-10 04:52:30   \n",
       "108684             sputniknews.com 2020-08-13 10:23:00   \n",
       "\n",
       "                                                    title lang  year  month  \n",
       "5       NASA Releases In-Depth Map of Beirut Explosion...   en  2020      8  \n",
       "6       SpaceX, NASA Demo-2 Rocket Launch Set for Satu...   en  2020      5  \n",
       "9       NASA invites engineering students to help harv...   en  2020      8  \n",
       "11      NASA Finds Ammonia-Linked 'Mushballs' and 'Sha...   en  2020      8  \n",
       "26      ‘It came alive:’ NASA astronauts describe expe...   en  2020      8  \n",
       "...                                                   ...  ...   ...    ...  \n",
       "107512  To start with-at any time place helicopter is ...   en  2020      8  \n",
       "108092  Arecibo Observatory Returns from Tropical Stor...   en  2020      8  \n",
       "108269  NASA Shuttle Carrier Aircraft Arrives at Kenne...   en  2020      8  \n",
       "108397  NASA Perseverance rover on way to Mars to find...   en  2020      8  \n",
       "108684  'Ancient Temple' Built by 'Intelligent Aliens'...   en  2020      8  \n",
       "\n",
       "[504 rows x 8 columns]"
      ],
      "text/html": [
       "<div>\n",
       "<style scoped>\n",
       "    .dataframe tbody tr th:only-of-type {\n",
       "        vertical-align: middle;\n",
       "    }\n",
       "\n",
       "    .dataframe tbody tr th {\n",
       "        vertical-align: top;\n",
       "    }\n",
       "\n",
       "    .dataframe thead th {\n",
       "        text-align: right;\n",
       "    }\n",
       "</style>\n",
       "<table border=\"1\" class=\"dataframe\">\n",
       "  <thead>\n",
       "    <tr style=\"text-align: right;\">\n",
       "      <th></th>\n",
       "      <th>topic</th>\n",
       "      <th>link</th>\n",
       "      <th>domain</th>\n",
       "      <th>published_date</th>\n",
       "      <th>title</th>\n",
       "      <th>lang</th>\n",
       "      <th>year</th>\n",
       "      <th>month</th>\n",
       "    </tr>\n",
       "  </thead>\n",
       "  <tbody>\n",
       "    <tr>\n",
       "      <th>5</th>\n",
       "      <td>SCIENCE</td>\n",
       "      <td>https://interestingengineering.com/nasa-releas...</td>\n",
       "      <td>interestingengineering.com</td>\n",
       "      <td>2020-08-08 11:05:45</td>\n",
       "      <td>NASA Releases In-Depth Map of Beirut Explosion...</td>\n",
       "      <td>en</td>\n",
       "      <td>2020</td>\n",
       "      <td>8</td>\n",
       "    </tr>\n",
       "    <tr>\n",
       "      <th>6</th>\n",
       "      <td>SCIENCE</td>\n",
       "      <td>https://www.thequint.com/tech-and-auto/spacex-...</td>\n",
       "      <td>thequint.com</td>\n",
       "      <td>2020-05-28 09:09:46</td>\n",
       "      <td>SpaceX, NASA Demo-2 Rocket Launch Set for Satu...</td>\n",
       "      <td>en</td>\n",
       "      <td>2020</td>\n",
       "      <td>5</td>\n",
       "    </tr>\n",
       "    <tr>\n",
       "      <th>9</th>\n",
       "      <td>SCIENCE</td>\n",
       "      <td>https://www.thehindubusinessline.com/news/scie...</td>\n",
       "      <td>thehindubusinessline.com</td>\n",
       "      <td>2020-08-14 07:43:25</td>\n",
       "      <td>NASA invites engineering students to help harv...</td>\n",
       "      <td>en</td>\n",
       "      <td>2020</td>\n",
       "      <td>8</td>\n",
       "    </tr>\n",
       "    <tr>\n",
       "      <th>11</th>\n",
       "      <td>SCIENCE</td>\n",
       "      <td>https://interestingengineering.com/nasa-finds-...</td>\n",
       "      <td>interestingengineering.com</td>\n",
       "      <td>2020-08-07 09:23:57</td>\n",
       "      <td>NASA Finds Ammonia-Linked 'Mushballs' and 'Sha...</td>\n",
       "      <td>en</td>\n",
       "      <td>2020</td>\n",
       "      <td>8</td>\n",
       "    </tr>\n",
       "    <tr>\n",
       "      <th>26</th>\n",
       "      <td>SCIENCE</td>\n",
       "      <td>https://www.clickorlando.com/news/local/2020/0...</td>\n",
       "      <td>clickorlando.com</td>\n",
       "      <td>2020-08-04 23:21:00</td>\n",
       "      <td>‘It came alive:’ NASA astronauts describe expe...</td>\n",
       "      <td>en</td>\n",
       "      <td>2020</td>\n",
       "      <td>8</td>\n",
       "    </tr>\n",
       "    <tr>\n",
       "      <th>...</th>\n",
       "      <td>...</td>\n",
       "      <td>...</td>\n",
       "      <td>...</td>\n",
       "      <td>...</td>\n",
       "      <td>...</td>\n",
       "      <td>...</td>\n",
       "      <td>...</td>\n",
       "      <td>...</td>\n",
       "    </tr>\n",
       "    <tr>\n",
       "      <th>107512</th>\n",
       "      <td>SCIENCE</td>\n",
       "      <td>https://www.haveeru.com.mv/to-start-with-at-an...</td>\n",
       "      <td>haveeru.com.mv</td>\n",
       "      <td>2020-08-06 20:30:16</td>\n",
       "      <td>To start with-at any time place helicopter is ...</td>\n",
       "      <td>en</td>\n",
       "      <td>2020</td>\n",
       "      <td>8</td>\n",
       "    </tr>\n",
       "    <tr>\n",
       "      <th>108092</th>\n",
       "      <td>SCIENCE</td>\n",
       "      <td>https://solarsystem.nasa.gov/news/1421/arecibo...</td>\n",
       "      <td>solarsystem.nasa.gov</td>\n",
       "      <td>2020-08-07 17:38:24</td>\n",
       "      <td>Arecibo Observatory Returns from Tropical Stor...</td>\n",
       "      <td>en</td>\n",
       "      <td>2020</td>\n",
       "      <td>8</td>\n",
       "    </tr>\n",
       "    <tr>\n",
       "      <th>108269</th>\n",
       "      <td>SCIENCE</td>\n",
       "      <td>https://americaspeaksink.com/2020/08/nasa-shut...</td>\n",
       "      <td>americaspeaksink.com</td>\n",
       "      <td>2020-08-07 19:45:00</td>\n",
       "      <td>NASA Shuttle Carrier Aircraft Arrives at Kenne...</td>\n",
       "      <td>en</td>\n",
       "      <td>2020</td>\n",
       "      <td>8</td>\n",
       "    </tr>\n",
       "    <tr>\n",
       "      <th>108397</th>\n",
       "      <td>SCIENCE</td>\n",
       "      <td>https://www.therahnuma.com/nasa-perseverance-r...</td>\n",
       "      <td>therahnuma.com</td>\n",
       "      <td>2020-08-10 04:52:30</td>\n",
       "      <td>NASA Perseverance rover on way to Mars to find...</td>\n",
       "      <td>en</td>\n",
       "      <td>2020</td>\n",
       "      <td>8</td>\n",
       "    </tr>\n",
       "    <tr>\n",
       "      <th>108684</th>\n",
       "      <td>SCIENCE</td>\n",
       "      <td>https://sputniknews.com/science/20200813108015...</td>\n",
       "      <td>sputniknews.com</td>\n",
       "      <td>2020-08-13 10:23:00</td>\n",
       "      <td>'Ancient Temple' Built by 'Intelligent Aliens'...</td>\n",
       "      <td>en</td>\n",
       "      <td>2020</td>\n",
       "      <td>8</td>\n",
       "    </tr>\n",
       "  </tbody>\n",
       "</table>\n",
       "<p>504 rows × 8 columns</p>\n",
       "</div>"
      ]
     },
     "execution_count": 24,
     "metadata": {},
     "output_type": "execute_result"
    }
   ],
   "execution_count": 24
  },
  {
   "metadata": {},
   "cell_type": "markdown",
   "source": "Подготовка пайплайна классификации:",
   "id": "de838457e45682de"
  },
  {
   "metadata": {
    "ExecuteTime": {
     "end_time": "2025-03-09T21:04:43.382748Z",
     "start_time": "2025-03-09T21:04:42.849660Z"
    }
   },
   "cell_type": "code",
   "source": [
    "device = 'cuda:0' if torch.cuda.is_available() else 'cpu'\n",
    "\n",
    "model_path = 'tabularisai/multilingual-sentiment-analysis'\n",
    "sentiment_task = pipeline(\n",
    "    'sentiment-analysis',\n",
    "    model=model_path,\n",
    "    tokenizer=model_path,\n",
    "    device=device\n",
    ")"
   ],
   "id": "e4afa7e60b1c504f",
   "outputs": [
    {
     "name": "stderr",
     "output_type": "stream",
     "text": [
      "Device set to use cuda:0\n"
     ]
    }
   ],
   "execution_count": 25
  },
  {
   "metadata": {
    "ExecuteTime": {
     "end_time": "2025-03-09T21:04:43.537386Z",
     "start_time": "2025-03-09T21:04:43.399096Z"
    }
   },
   "cell_type": "code",
   "source": [
    "text = \"I love this product! It's amazing and works perfectly.\"\n",
    "sentiment_task(text)"
   ],
   "id": "6b2f13072c99ccef",
   "outputs": [
    {
     "data": {
      "text/plain": [
       "[{'label': 'Very Positive', 'score': 0.5922622084617615}]"
      ]
     },
     "execution_count": 26,
     "metadata": {},
     "output_type": "execute_result"
    }
   ],
   "execution_count": 26
  },
  {
   "metadata": {},
   "cell_type": "markdown",
   "source": "Классификация:",
   "id": "2021dfaf90e6f58f"
  },
  {
   "metadata": {
    "ExecuteTime": {
     "end_time": "2025-03-09T21:04:43.604043Z",
     "start_time": "2025-03-09T21:04:43.581694Z"
    }
   },
   "cell_type": "code",
   "source": [
    "examples = df[df.title.str.contains(ORG_NAME)].title.tolist()\n",
    "examples[:10]"
   ],
   "id": "f53908565142c718",
   "outputs": [
    {
     "data": {
      "text/plain": [
       "['NASA Releases In-Depth Map of Beirut Explosion Damage',\n",
       " 'SpaceX, NASA Demo-2 Rocket Launch Set for Saturday: How to Watch',\n",
       " 'NASA invites engineering students to help harvest water on Mars, Moon',\n",
       " \"NASA Finds Ammonia-Linked 'Mushballs' and 'Shallow Lightning' on Jupiter\",\n",
       " '‘It came alive:’ NASA astronauts describe experiencing splashdown in SpaceX Dragon',\n",
       " 'NASA drops \"insensitive\" nicknames for cosmic objects',\n",
       " 'NASA’s InSight lander shows what’s beneath Mars’ surface',\n",
       " 'SpaceX Crew-1 mission with NASA, first fully operational crewed mission to space to launch in October',\n",
       " 'ATLAS Space Operations Awarded NASA SBIR Phase II Award to Advance Satellite Constellation Management Scheduling',\n",
       " 'NASA Astronauts in SpaceX Capsule Splashdown in Gulf Of Mexico']"
      ]
     },
     "execution_count": 27,
     "metadata": {},
     "output_type": "execute_result"
    }
   ],
   "execution_count": 27
  },
  {
   "metadata": {
    "ExecuteTime": {
     "end_time": "2025-03-09T21:04:43.980766Z",
     "start_time": "2025-03-09T21:04:43.636671Z"
    }
   },
   "cell_type": "code",
   "source": [
    "result = sentiment_task(examples, batch_size=10)\n",
    "result[:10]"
   ],
   "id": "8aee48deeaea7246",
   "outputs": [
    {
     "data": {
      "text/plain": [
       "[{'label': 'Very Negative', 'score': 0.478000670671463},\n",
       " {'label': 'Neutral', 'score': 0.313614159822464},\n",
       " {'label': 'Positive', 'score': 0.38947415351867676},\n",
       " {'label': 'Neutral', 'score': 0.2900258004665375},\n",
       " {'label': 'Neutral', 'score': 0.3115333020687103},\n",
       " {'label': 'Negative', 'score': 0.3855946362018585},\n",
       " {'label': 'Neutral', 'score': 0.36988380551338196},\n",
       " {'label': 'Very Positive', 'score': 0.4011678695678711},\n",
       " {'label': 'Very Positive', 'score': 0.618162214756012},\n",
       " {'label': 'Very Negative', 'score': 0.41554921865463257}]"
      ]
     },
     "execution_count": 28,
     "metadata": {},
     "output_type": "execute_result"
    }
   ],
   "execution_count": 28
  },
  {
   "metadata": {},
   "cell_type": "markdown",
   "source": "Обработка полученных результатов:",
   "id": "454e05c4e508a849"
  },
  {
   "metadata": {
    "ExecuteTime": {
     "end_time": "2025-03-09T21:04:43.989250Z",
     "start_time": "2025-03-09T21:04:43.987096Z"
    }
   },
   "cell_type": "code",
   "source": [
    "df = pd.DataFrame(\n",
    "    {\n",
    "        'title': examples,\n",
    "        'result': result\n",
    "    }\n",
    ")"
   ],
   "id": "814fc1722c2a0cae",
   "outputs": [],
   "execution_count": 29
  },
  {
   "metadata": {
    "ExecuteTime": {
     "end_time": "2025-03-09T21:04:44.069046Z",
     "start_time": "2025-03-09T21:04:44.040365Z"
    }
   },
   "cell_type": "code",
   "source": [
    "df[['label', 'score']] = df.result.apply(pd.Series)\n",
    "df['score'] = np.round(df['score'], 3)\n",
    "df.drop('result', axis=1, inplace=True)\n",
    "df"
   ],
   "id": "f5f7bdf2d9e68689",
   "outputs": [
    {
     "data": {
      "text/plain": [
       "                                                 title          label  score\n",
       "0    NASA Releases In-Depth Map of Beirut Explosion...  Very Negative  0.478\n",
       "1    SpaceX, NASA Demo-2 Rocket Launch Set for Satu...        Neutral  0.314\n",
       "2    NASA invites engineering students to help harv...       Positive  0.389\n",
       "3    NASA Finds Ammonia-Linked 'Mushballs' and 'Sha...        Neutral  0.290\n",
       "4    ‘It came alive:’ NASA astronauts describe expe...        Neutral  0.312\n",
       "..                                                 ...            ...    ...\n",
       "499  To start with-at any time place helicopter is ...        Neutral  0.442\n",
       "500  Arecibo Observatory Returns from Tropical Stor...        Neutral  0.384\n",
       "501  NASA Shuttle Carrier Aircraft Arrives at Kenne...        Neutral  0.312\n",
       "502  NASA Perseverance rover on way to Mars to find...  Very Positive  0.401\n",
       "503  'Ancient Temple' Built by 'Intelligent Aliens'...        Neutral  0.294\n",
       "\n",
       "[504 rows x 3 columns]"
      ],
      "text/html": [
       "<div>\n",
       "<style scoped>\n",
       "    .dataframe tbody tr th:only-of-type {\n",
       "        vertical-align: middle;\n",
       "    }\n",
       "\n",
       "    .dataframe tbody tr th {\n",
       "        vertical-align: top;\n",
       "    }\n",
       "\n",
       "    .dataframe thead th {\n",
       "        text-align: right;\n",
       "    }\n",
       "</style>\n",
       "<table border=\"1\" class=\"dataframe\">\n",
       "  <thead>\n",
       "    <tr style=\"text-align: right;\">\n",
       "      <th></th>\n",
       "      <th>title</th>\n",
       "      <th>label</th>\n",
       "      <th>score</th>\n",
       "    </tr>\n",
       "  </thead>\n",
       "  <tbody>\n",
       "    <tr>\n",
       "      <th>0</th>\n",
       "      <td>NASA Releases In-Depth Map of Beirut Explosion...</td>\n",
       "      <td>Very Negative</td>\n",
       "      <td>0.478</td>\n",
       "    </tr>\n",
       "    <tr>\n",
       "      <th>1</th>\n",
       "      <td>SpaceX, NASA Demo-2 Rocket Launch Set for Satu...</td>\n",
       "      <td>Neutral</td>\n",
       "      <td>0.314</td>\n",
       "    </tr>\n",
       "    <tr>\n",
       "      <th>2</th>\n",
       "      <td>NASA invites engineering students to help harv...</td>\n",
       "      <td>Positive</td>\n",
       "      <td>0.389</td>\n",
       "    </tr>\n",
       "    <tr>\n",
       "      <th>3</th>\n",
       "      <td>NASA Finds Ammonia-Linked 'Mushballs' and 'Sha...</td>\n",
       "      <td>Neutral</td>\n",
       "      <td>0.290</td>\n",
       "    </tr>\n",
       "    <tr>\n",
       "      <th>4</th>\n",
       "      <td>‘It came alive:’ NASA astronauts describe expe...</td>\n",
       "      <td>Neutral</td>\n",
       "      <td>0.312</td>\n",
       "    </tr>\n",
       "    <tr>\n",
       "      <th>...</th>\n",
       "      <td>...</td>\n",
       "      <td>...</td>\n",
       "      <td>...</td>\n",
       "    </tr>\n",
       "    <tr>\n",
       "      <th>499</th>\n",
       "      <td>To start with-at any time place helicopter is ...</td>\n",
       "      <td>Neutral</td>\n",
       "      <td>0.442</td>\n",
       "    </tr>\n",
       "    <tr>\n",
       "      <th>500</th>\n",
       "      <td>Arecibo Observatory Returns from Tropical Stor...</td>\n",
       "      <td>Neutral</td>\n",
       "      <td>0.384</td>\n",
       "    </tr>\n",
       "    <tr>\n",
       "      <th>501</th>\n",
       "      <td>NASA Shuttle Carrier Aircraft Arrives at Kenne...</td>\n",
       "      <td>Neutral</td>\n",
       "      <td>0.312</td>\n",
       "    </tr>\n",
       "    <tr>\n",
       "      <th>502</th>\n",
       "      <td>NASA Perseverance rover on way to Mars to find...</td>\n",
       "      <td>Very Positive</td>\n",
       "      <td>0.401</td>\n",
       "    </tr>\n",
       "    <tr>\n",
       "      <th>503</th>\n",
       "      <td>'Ancient Temple' Built by 'Intelligent Aliens'...</td>\n",
       "      <td>Neutral</td>\n",
       "      <td>0.294</td>\n",
       "    </tr>\n",
       "  </tbody>\n",
       "</table>\n",
       "<p>504 rows × 3 columns</p>\n",
       "</div>"
      ]
     },
     "execution_count": 30,
     "metadata": {},
     "output_type": "execute_result"
    }
   ],
   "execution_count": 30
  },
  {
   "metadata": {},
   "cell_type": "markdown",
   "source": "Распределение меток:",
   "id": "15b8493020889c80"
  },
  {
   "metadata": {
    "ExecuteTime": {
     "end_time": "2025-03-09T21:04:44.105668Z",
     "start_time": "2025-03-09T21:04:44.101517Z"
    }
   },
   "cell_type": "code",
   "source": [
    "new_df = df.label.value_counts().reset_index()\n",
    "new_df['percentage'] = np.round(new_df['count'] / np.sum(new_df['count']), 2)\n",
    "new_df"
   ],
   "id": "f68f84820750fa05",
   "outputs": [
    {
     "data": {
      "text/plain": [
       "           label  count  percentage\n",
       "0        Neutral    185        0.37\n",
       "1  Very Positive    169        0.34\n",
       "2  Very Negative     60        0.12\n",
       "3       Positive     50        0.10\n",
       "4       Negative     40        0.08"
      ],
      "text/html": [
       "<div>\n",
       "<style scoped>\n",
       "    .dataframe tbody tr th:only-of-type {\n",
       "        vertical-align: middle;\n",
       "    }\n",
       "\n",
       "    .dataframe tbody tr th {\n",
       "        vertical-align: top;\n",
       "    }\n",
       "\n",
       "    .dataframe thead th {\n",
       "        text-align: right;\n",
       "    }\n",
       "</style>\n",
       "<table border=\"1\" class=\"dataframe\">\n",
       "  <thead>\n",
       "    <tr style=\"text-align: right;\">\n",
       "      <th></th>\n",
       "      <th>label</th>\n",
       "      <th>count</th>\n",
       "      <th>percentage</th>\n",
       "    </tr>\n",
       "  </thead>\n",
       "  <tbody>\n",
       "    <tr>\n",
       "      <th>0</th>\n",
       "      <td>Neutral</td>\n",
       "      <td>185</td>\n",
       "      <td>0.37</td>\n",
       "    </tr>\n",
       "    <tr>\n",
       "      <th>1</th>\n",
       "      <td>Very Positive</td>\n",
       "      <td>169</td>\n",
       "      <td>0.34</td>\n",
       "    </tr>\n",
       "    <tr>\n",
       "      <th>2</th>\n",
       "      <td>Very Negative</td>\n",
       "      <td>60</td>\n",
       "      <td>0.12</td>\n",
       "    </tr>\n",
       "    <tr>\n",
       "      <th>3</th>\n",
       "      <td>Positive</td>\n",
       "      <td>50</td>\n",
       "      <td>0.10</td>\n",
       "    </tr>\n",
       "    <tr>\n",
       "      <th>4</th>\n",
       "      <td>Negative</td>\n",
       "      <td>40</td>\n",
       "      <td>0.08</td>\n",
       "    </tr>\n",
       "  </tbody>\n",
       "</table>\n",
       "</div>"
      ]
     },
     "execution_count": 31,
     "metadata": {},
     "output_type": "execute_result"
    }
   ],
   "execution_count": 31
  },
  {
   "metadata": {},
   "cell_type": "markdown",
   "source": "Посмотрим примеры по классам:",
   "id": "3134dbe12593b3bb"
  },
  {
   "metadata": {
    "ExecuteTime": {
     "end_time": "2025-03-09T21:04:44.148226Z",
     "start_time": "2025-03-09T21:04:44.146165Z"
    }
   },
   "cell_type": "code",
   "source": [
    "def show_results(*args: str) -> pd.DataFrame:\n",
    "    option = df.label.isin(args)\n",
    "\n",
    "    return df[option]"
   ],
   "id": "9563768d458b5821",
   "outputs": [],
   "execution_count": 32
  },
  {
   "metadata": {
    "ExecuteTime": {
     "end_time": "2025-03-09T21:04:44.222557Z",
     "start_time": "2025-03-09T21:04:44.217953Z"
    }
   },
   "cell_type": "code",
   "source": "show_results('Negative', 'Very Negative')",
   "id": "591c00cde8a0ba44",
   "outputs": [
    {
     "data": {
      "text/plain": [
       "                                                 title          label  score\n",
       "0    NASA Releases In-Depth Map of Beirut Explosion...  Very Negative  0.478\n",
       "5    NASA drops \"insensitive\" nicknames for cosmic ...       Negative  0.386\n",
       "9    NASA Astronauts in SpaceX Capsule Splashdown i...  Very Negative  0.416\n",
       "13   ‘Like an animal’: NASA astronauts describe noi...  Very Negative  0.472\n",
       "26   Outrage after NASA ‘goes woke’ and renames ‘in...       Negative  0.330\n",
       "..                                                 ...            ...    ...\n",
       "479               Did NASA finally save its Mars mole?       Negative  0.312\n",
       "481  NASA maps Beirut blast damage through satellit...  Very Negative  0.422\n",
       "484  Moon landing faked? Astronomer exposes truth b...  Very Negative  0.385\n",
       "497  NASA Gets Woke by Changing Racist Star Names a...  Very Negative  0.364\n",
       "498  NASA Is Tracking a \"Dent\" in the Earth's Magne...  Very Negative  0.317\n",
       "\n",
       "[100 rows x 3 columns]"
      ],
      "text/html": [
       "<div>\n",
       "<style scoped>\n",
       "    .dataframe tbody tr th:only-of-type {\n",
       "        vertical-align: middle;\n",
       "    }\n",
       "\n",
       "    .dataframe tbody tr th {\n",
       "        vertical-align: top;\n",
       "    }\n",
       "\n",
       "    .dataframe thead th {\n",
       "        text-align: right;\n",
       "    }\n",
       "</style>\n",
       "<table border=\"1\" class=\"dataframe\">\n",
       "  <thead>\n",
       "    <tr style=\"text-align: right;\">\n",
       "      <th></th>\n",
       "      <th>title</th>\n",
       "      <th>label</th>\n",
       "      <th>score</th>\n",
       "    </tr>\n",
       "  </thead>\n",
       "  <tbody>\n",
       "    <tr>\n",
       "      <th>0</th>\n",
       "      <td>NASA Releases In-Depth Map of Beirut Explosion...</td>\n",
       "      <td>Very Negative</td>\n",
       "      <td>0.478</td>\n",
       "    </tr>\n",
       "    <tr>\n",
       "      <th>5</th>\n",
       "      <td>NASA drops \"insensitive\" nicknames for cosmic ...</td>\n",
       "      <td>Negative</td>\n",
       "      <td>0.386</td>\n",
       "    </tr>\n",
       "    <tr>\n",
       "      <th>9</th>\n",
       "      <td>NASA Astronauts in SpaceX Capsule Splashdown i...</td>\n",
       "      <td>Very Negative</td>\n",
       "      <td>0.416</td>\n",
       "    </tr>\n",
       "    <tr>\n",
       "      <th>13</th>\n",
       "      <td>‘Like an animal’: NASA astronauts describe noi...</td>\n",
       "      <td>Very Negative</td>\n",
       "      <td>0.472</td>\n",
       "    </tr>\n",
       "    <tr>\n",
       "      <th>26</th>\n",
       "      <td>Outrage after NASA ‘goes woke’ and renames ‘in...</td>\n",
       "      <td>Negative</td>\n",
       "      <td>0.330</td>\n",
       "    </tr>\n",
       "    <tr>\n",
       "      <th>...</th>\n",
       "      <td>...</td>\n",
       "      <td>...</td>\n",
       "      <td>...</td>\n",
       "    </tr>\n",
       "    <tr>\n",
       "      <th>479</th>\n",
       "      <td>Did NASA finally save its Mars mole?</td>\n",
       "      <td>Negative</td>\n",
       "      <td>0.312</td>\n",
       "    </tr>\n",
       "    <tr>\n",
       "      <th>481</th>\n",
       "      <td>NASA maps Beirut blast damage through satellit...</td>\n",
       "      <td>Very Negative</td>\n",
       "      <td>0.422</td>\n",
       "    </tr>\n",
       "    <tr>\n",
       "      <th>484</th>\n",
       "      <td>Moon landing faked? Astronomer exposes truth b...</td>\n",
       "      <td>Very Negative</td>\n",
       "      <td>0.385</td>\n",
       "    </tr>\n",
       "    <tr>\n",
       "      <th>497</th>\n",
       "      <td>NASA Gets Woke by Changing Racist Star Names a...</td>\n",
       "      <td>Very Negative</td>\n",
       "      <td>0.364</td>\n",
       "    </tr>\n",
       "    <tr>\n",
       "      <th>498</th>\n",
       "      <td>NASA Is Tracking a \"Dent\" in the Earth's Magne...</td>\n",
       "      <td>Very Negative</td>\n",
       "      <td>0.317</td>\n",
       "    </tr>\n",
       "  </tbody>\n",
       "</table>\n",
       "<p>100 rows × 3 columns</p>\n",
       "</div>"
      ]
     },
     "execution_count": 33,
     "metadata": {},
     "output_type": "execute_result"
    }
   ],
   "execution_count": 33
  },
  {
   "metadata": {
    "ExecuteTime": {
     "end_time": "2025-03-09T21:04:44.318146Z",
     "start_time": "2025-03-09T21:04:44.313925Z"
    }
   },
   "cell_type": "code",
   "source": "show_results('Neutral')\n",
   "id": "321fd19c1c775cb7",
   "outputs": [
    {
     "data": {
      "text/plain": [
       "                                                 title    label  score\n",
       "1    SpaceX, NASA Demo-2 Rocket Launch Set for Satu...  Neutral  0.314\n",
       "3    NASA Finds Ammonia-Linked 'Mushballs' and 'Sha...  Neutral  0.290\n",
       "4    ‘It came alive:’ NASA astronauts describe expe...  Neutral  0.312\n",
       "6    NASA’s InSight lander shows what’s beneath Mar...  Neutral  0.370\n",
       "15   NASA Administrator Statement on the Passing of...  Neutral  0.357\n",
       "..                                                 ...      ...    ...\n",
       "494  NASA satellite finds 66 new exoplanets, 2,100 ...  Neutral  0.613\n",
       "499  To start with-at any time place helicopter is ...  Neutral  0.442\n",
       "500  Arecibo Observatory Returns from Tropical Stor...  Neutral  0.384\n",
       "501  NASA Shuttle Carrier Aircraft Arrives at Kenne...  Neutral  0.312\n",
       "503  'Ancient Temple' Built by 'Intelligent Aliens'...  Neutral  0.294\n",
       "\n",
       "[185 rows x 3 columns]"
      ],
      "text/html": [
       "<div>\n",
       "<style scoped>\n",
       "    .dataframe tbody tr th:only-of-type {\n",
       "        vertical-align: middle;\n",
       "    }\n",
       "\n",
       "    .dataframe tbody tr th {\n",
       "        vertical-align: top;\n",
       "    }\n",
       "\n",
       "    .dataframe thead th {\n",
       "        text-align: right;\n",
       "    }\n",
       "</style>\n",
       "<table border=\"1\" class=\"dataframe\">\n",
       "  <thead>\n",
       "    <tr style=\"text-align: right;\">\n",
       "      <th></th>\n",
       "      <th>title</th>\n",
       "      <th>label</th>\n",
       "      <th>score</th>\n",
       "    </tr>\n",
       "  </thead>\n",
       "  <tbody>\n",
       "    <tr>\n",
       "      <th>1</th>\n",
       "      <td>SpaceX, NASA Demo-2 Rocket Launch Set for Satu...</td>\n",
       "      <td>Neutral</td>\n",
       "      <td>0.314</td>\n",
       "    </tr>\n",
       "    <tr>\n",
       "      <th>3</th>\n",
       "      <td>NASA Finds Ammonia-Linked 'Mushballs' and 'Sha...</td>\n",
       "      <td>Neutral</td>\n",
       "      <td>0.290</td>\n",
       "    </tr>\n",
       "    <tr>\n",
       "      <th>4</th>\n",
       "      <td>‘It came alive:’ NASA astronauts describe expe...</td>\n",
       "      <td>Neutral</td>\n",
       "      <td>0.312</td>\n",
       "    </tr>\n",
       "    <tr>\n",
       "      <th>6</th>\n",
       "      <td>NASA’s InSight lander shows what’s beneath Mar...</td>\n",
       "      <td>Neutral</td>\n",
       "      <td>0.370</td>\n",
       "    </tr>\n",
       "    <tr>\n",
       "      <th>15</th>\n",
       "      <td>NASA Administrator Statement on the Passing of...</td>\n",
       "      <td>Neutral</td>\n",
       "      <td>0.357</td>\n",
       "    </tr>\n",
       "    <tr>\n",
       "      <th>...</th>\n",
       "      <td>...</td>\n",
       "      <td>...</td>\n",
       "      <td>...</td>\n",
       "    </tr>\n",
       "    <tr>\n",
       "      <th>494</th>\n",
       "      <td>NASA satellite finds 66 new exoplanets, 2,100 ...</td>\n",
       "      <td>Neutral</td>\n",
       "      <td>0.613</td>\n",
       "    </tr>\n",
       "    <tr>\n",
       "      <th>499</th>\n",
       "      <td>To start with-at any time place helicopter is ...</td>\n",
       "      <td>Neutral</td>\n",
       "      <td>0.442</td>\n",
       "    </tr>\n",
       "    <tr>\n",
       "      <th>500</th>\n",
       "      <td>Arecibo Observatory Returns from Tropical Stor...</td>\n",
       "      <td>Neutral</td>\n",
       "      <td>0.384</td>\n",
       "    </tr>\n",
       "    <tr>\n",
       "      <th>501</th>\n",
       "      <td>NASA Shuttle Carrier Aircraft Arrives at Kenne...</td>\n",
       "      <td>Neutral</td>\n",
       "      <td>0.312</td>\n",
       "    </tr>\n",
       "    <tr>\n",
       "      <th>503</th>\n",
       "      <td>'Ancient Temple' Built by 'Intelligent Aliens'...</td>\n",
       "      <td>Neutral</td>\n",
       "      <td>0.294</td>\n",
       "    </tr>\n",
       "  </tbody>\n",
       "</table>\n",
       "<p>185 rows × 3 columns</p>\n",
       "</div>"
      ]
     },
     "execution_count": 34,
     "metadata": {},
     "output_type": "execute_result"
    }
   ],
   "execution_count": 34
  },
  {
   "metadata": {
    "ExecuteTime": {
     "end_time": "2025-03-09T21:04:44.347570Z",
     "start_time": "2025-03-09T21:04:44.343010Z"
    }
   },
   "cell_type": "code",
   "source": "show_results('Positive', 'Very Positive')\n",
   "id": "2c85fb01487f4515",
   "outputs": [
    {
     "data": {
      "text/plain": [
       "                                                 title          label  score\n",
       "2    NASA invites engineering students to help harv...       Positive  0.389\n",
       "7    SpaceX Crew-1 mission with NASA, first fully o...  Very Positive  0.401\n",
       "8    ATLAS Space Operations Awarded NASA SBIR Phase...  Very Positive  0.618\n",
       "10   Beck teams up with NASA and AI for 'Hyperspace...       Positive  0.438\n",
       "11           SpaceX brings NASA astronauts safely home       Positive  0.445\n",
       "..                                                 ...            ...    ...\n",
       "490  NASA’s OSIRIS-REx Matchpoint Rehearsal: Final ...  Very Positive  0.293\n",
       "493  NASA satellite images capture stunning video o...  Very Positive  0.471\n",
       "495  NASA’s Ingenuity Mars helicopter gets first bo...  Very Positive  0.439\n",
       "496  NASA's planet hunter completes its primary mis...  Very Positive  0.327\n",
       "502  NASA Perseverance rover on way to Mars to find...  Very Positive  0.401\n",
       "\n",
       "[219 rows x 3 columns]"
      ],
      "text/html": [
       "<div>\n",
       "<style scoped>\n",
       "    .dataframe tbody tr th:only-of-type {\n",
       "        vertical-align: middle;\n",
       "    }\n",
       "\n",
       "    .dataframe tbody tr th {\n",
       "        vertical-align: top;\n",
       "    }\n",
       "\n",
       "    .dataframe thead th {\n",
       "        text-align: right;\n",
       "    }\n",
       "</style>\n",
       "<table border=\"1\" class=\"dataframe\">\n",
       "  <thead>\n",
       "    <tr style=\"text-align: right;\">\n",
       "      <th></th>\n",
       "      <th>title</th>\n",
       "      <th>label</th>\n",
       "      <th>score</th>\n",
       "    </tr>\n",
       "  </thead>\n",
       "  <tbody>\n",
       "    <tr>\n",
       "      <th>2</th>\n",
       "      <td>NASA invites engineering students to help harv...</td>\n",
       "      <td>Positive</td>\n",
       "      <td>0.389</td>\n",
       "    </tr>\n",
       "    <tr>\n",
       "      <th>7</th>\n",
       "      <td>SpaceX Crew-1 mission with NASA, first fully o...</td>\n",
       "      <td>Very Positive</td>\n",
       "      <td>0.401</td>\n",
       "    </tr>\n",
       "    <tr>\n",
       "      <th>8</th>\n",
       "      <td>ATLAS Space Operations Awarded NASA SBIR Phase...</td>\n",
       "      <td>Very Positive</td>\n",
       "      <td>0.618</td>\n",
       "    </tr>\n",
       "    <tr>\n",
       "      <th>10</th>\n",
       "      <td>Beck teams up with NASA and AI for 'Hyperspace...</td>\n",
       "      <td>Positive</td>\n",
       "      <td>0.438</td>\n",
       "    </tr>\n",
       "    <tr>\n",
       "      <th>11</th>\n",
       "      <td>SpaceX brings NASA astronauts safely home</td>\n",
       "      <td>Positive</td>\n",
       "      <td>0.445</td>\n",
       "    </tr>\n",
       "    <tr>\n",
       "      <th>...</th>\n",
       "      <td>...</td>\n",
       "      <td>...</td>\n",
       "      <td>...</td>\n",
       "    </tr>\n",
       "    <tr>\n",
       "      <th>490</th>\n",
       "      <td>NASA’s OSIRIS-REx Matchpoint Rehearsal: Final ...</td>\n",
       "      <td>Very Positive</td>\n",
       "      <td>0.293</td>\n",
       "    </tr>\n",
       "    <tr>\n",
       "      <th>493</th>\n",
       "      <td>NASA satellite images capture stunning video o...</td>\n",
       "      <td>Very Positive</td>\n",
       "      <td>0.471</td>\n",
       "    </tr>\n",
       "    <tr>\n",
       "      <th>495</th>\n",
       "      <td>NASA’s Ingenuity Mars helicopter gets first bo...</td>\n",
       "      <td>Very Positive</td>\n",
       "      <td>0.439</td>\n",
       "    </tr>\n",
       "    <tr>\n",
       "      <th>496</th>\n",
       "      <td>NASA's planet hunter completes its primary mis...</td>\n",
       "      <td>Very Positive</td>\n",
       "      <td>0.327</td>\n",
       "    </tr>\n",
       "    <tr>\n",
       "      <th>502</th>\n",
       "      <td>NASA Perseverance rover on way to Mars to find...</td>\n",
       "      <td>Very Positive</td>\n",
       "      <td>0.401</td>\n",
       "    </tr>\n",
       "  </tbody>\n",
       "</table>\n",
       "<p>219 rows × 3 columns</p>\n",
       "</div>"
      ]
     },
     "execution_count": 35,
     "metadata": {},
     "output_type": "execute_result"
    }
   ],
   "execution_count": 35
  },
  {
   "metadata": {},
   "cell_type": "markdown",
   "source": "# Conclusion:",
   "id": "d728305c4cec05ff"
  },
  {
   "metadata": {},
   "cell_type": "markdown",
   "source": "Заголовки, тексты статей, социальные сети и другие источники информации, содержащие название или связанные с интересующей нас организацией, можно классифицировать для определения позитивных/негативных упомянаний компании, мониторить их появление и соотношение и, основываясь на имеющейся информации, оптимизировать бюджет на маркетинг, а также в срочном порядке реагировать на кейсы, которые могут негативным образом повлиять на репутацию компании",
   "id": "af061fe563dce788"
  }
 ],
 "metadata": {
  "kernelspec": {
   "display_name": "Python 3",
   "language": "python",
   "name": "python3"
  },
  "language_info": {
   "codemirror_mode": {
    "name": "ipython",
    "version": 2
   },
   "file_extension": ".py",
   "mimetype": "text/x-python",
   "name": "python",
   "nbconvert_exporter": "python",
   "pygments_lexer": "ipython2",
   "version": "2.7.6"
  }
 },
 "nbformat": 4,
 "nbformat_minor": 5
}
